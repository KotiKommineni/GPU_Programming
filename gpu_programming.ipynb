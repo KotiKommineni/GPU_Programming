{
  "nbformat": 4,
  "nbformat_minor": 0,
  "metadata": {
    "colab": {
      "provenance": [],
      "mount_file_id": "1-G2hOGXpq-tzq-MQfhliYxf5GqHXrIMS",
      "authorship_tag": "ABX9TyPupVVDJcLtr0ZE2rc1MUE3",
      "include_colab_link": true
    },
    "kernelspec": {
      "name": "python3",
      "display_name": "Python 3"
    },
    "language_info": {
      "name": "python"
    },
    "gpuClass": "standard",
    "accelerator": "GPU"
  },
  "cells": [
    {
      "cell_type": "markdown",
      "metadata": {
        "id": "view-in-github",
        "colab_type": "text"
      },
      "source": [
        "<a href=\"https://colab.research.google.com/github/KotiKommineni/GPU_Programming/blob/main/gpu_programming.ipynb\" target=\"_parent\"><img src=\"https://colab.research.google.com/assets/colab-badge.svg\" alt=\"Open In Colab\"/></a>"
      ]
    },
    {
      "cell_type": "code",
      "source": [
        "! ls\n",
        "\n",
        "\n",
        "! nvcc --version\n",
        "\n",
        "\n",
        "!git --version\n",
        "\n",
        "\n",
        "! git clone https://github.com/andreinechaev/nvcc4jupyter.git\n",
        "\n",
        "%cd nvcc4jupyter/\n",
        "\n",
        "%load_ext nvcc_plugin\n"
      ],
      "metadata": {
        "colab": {
          "base_uri": "https://localhost:8080/"
        },
        "id": "CFCqxfbXDKyq",
        "outputId": "db253ea4-4d8f-404f-db24-fe230180ba82"
      },
      "execution_count": 3,
      "outputs": [
        {
          "output_type": "stream",
          "name": "stdout",
          "text": [
            "drive  sample_data\n",
            "nvcc: NVIDIA (R) Cuda compiler driver\n",
            "Copyright (c) 2005-2021 NVIDIA Corporation\n",
            "Built on Sun_Feb_14_21:12:58_PST_2021\n",
            "Cuda compilation tools, release 11.2, V11.2.152\n",
            "Build cuda_11.2.r11.2/compiler.29618528_0\n",
            "git version 2.25.1\n",
            "Cloning into 'nvcc4jupyter'...\n",
            "remote: Enumerating objects: 48, done.\u001b[K\n",
            "remote: Counting objects: 100% (3/3), done.\u001b[K\n",
            "remote: Compressing objects: 100% (3/3), done.\u001b[K\n",
            "remote: Total 48 (delta 0), reused 0 (delta 0), pack-reused 45\u001b[K\n",
            "Unpacking objects: 100% (48/48), 8.29 KiB | 1.04 MiB/s, done.\n",
            "/content/nvcc4jupyter\n",
            "created output directory at /content/nvcc4jupyter/src\n",
            "Out bin /content/nvcc4jupyter/result.out\n"
          ]
        }
      ]
    },
    {
      "cell_type": "code",
      "source": [
        "!nvcc --version\n"
      ],
      "metadata": {
        "colab": {
          "base_uri": "https://localhost:8080/"
        },
        "id": "uGTg_vrDQvSD",
        "outputId": "1a3d6f9d-b7eb-4561-980b-5421f1655646"
      },
      "execution_count": 4,
      "outputs": [
        {
          "output_type": "stream",
          "name": "stdout",
          "text": [
            "nvcc: NVIDIA (R) Cuda compiler driver\n",
            "Copyright (c) 2005-2021 NVIDIA Corporation\n",
            "Built on Sun_Feb_14_21:12:58_PST_2021\n",
            "Cuda compilation tools, release 11.2, V11.2.152\n",
            "Build cuda_11.2.r11.2/compiler.29618528_0\n"
          ]
        }
      ]
    },
    {
      "cell_type": "code",
      "source": [
        "%%cu\n",
        "#include <iostream>\n",
        "int main() \n",
        "{\n",
        "    std::cout << \"Hello world\\n\";\n",
        "    return 0;\n",
        "}"
      ],
      "metadata": {
        "colab": {
          "base_uri": "https://localhost:8080/"
        },
        "id": "BASSX3ccRugG",
        "outputId": "4f4d886a-c296-48a4-b798-8bd82813114e"
      },
      "execution_count": 5,
      "outputs": [
        {
          "output_type": "stream",
          "name": "stdout",
          "text": [
            "Hello world\n",
            "\n"
          ]
        }
      ]
    },
    {
      "cell_type": "code",
      "source": [
        "%%cu\n",
        "#include \"cuda_runtime.h\"\n",
        "#include \"device_launch_parameters.h\"\n",
        "#include \"stdio.h\"\n",
        "void addArrays(int*a, int*b, int*c, int count)\n",
        "{\n",
        "    for(int i=0; i <count;i++)\n",
        "    {\n",
        "         c[i]=a[i]+b[i];\n",
        "    }\n",
        "   \n",
        "}\n",
        "\n",
        "int main()\n",
        "{\n",
        "    const int count = 5;\n",
        "    int a[] = {1,2,3,4,5};\n",
        "    int b[] = {10,20,30,40,50};\n",
        "    int c[count];\n",
        "    \n",
        "    addArrays(a,b,c,count);\n",
        " \n",
        "    for(int i=0; i <count;i++)\n",
        "    {\n",
        "         printf(\"%d  \",c[i]);\n",
        "    }\n",
        " return 0;\n",
        "}"
      ],
      "metadata": {
        "colab": {
          "base_uri": "https://localhost:8080/"
        },
        "id": "RZUe9CqaSJpp",
        "outputId": "aea4cd03-54cd-4b63-d6b1-186f2be0faef"
      },
      "execution_count": 10,
      "outputs": [
        {
          "output_type": "stream",
          "name": "stdout",
          "text": [
            "11  22  33  44  55  \n"
          ]
        }
      ]
    }
  ]
}